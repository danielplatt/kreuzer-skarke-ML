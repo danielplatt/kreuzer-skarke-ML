{
 "cells": [
  {
   "cell_type": "code",
   "execution_count": 1,
   "id": "1a9ae92d",
   "metadata": {},
   "outputs": [],
   "source": [
    "import os, sys\n",
    "\n",
    "PROJ_DIR = os.path.abspath('../')\n",
    "\n",
    "if PROJ_DIR not in sys.path:\n",
    "    sys.path.append(PROJ_DIR)"
   ]
  },
  {
   "cell_type": "code",
   "execution_count": 2,
   "id": "c6620caa",
   "metadata": {},
   "outputs": [
    {
     "name": "stderr",
     "output_type": "stream",
     "text": [
      "2022-07-14 00:14:19.130222: I tensorflow/core/platform/cpu_feature_guard.cc:193] This TensorFlow binary is optimized with oneAPI Deep Neural Network Library (oneDNN) to use the following CPU instructions in performance-critical operations:  SSE4.2\n",
      "To enable them in other operations, rebuild TensorFlow with the appropriate compiler flags.\n"
     ]
    }
   ],
   "source": [
    "import pandas as pd\n",
    "import tensorflow as tf\n",
    "from sklearn.model_selection import train_test_split\n",
    "\n",
    "from fundamental_domain_projections.dirichlet.dirichlet_dataset import *\n",
    "from data.parse_data import *"
   ]
  },
  {
   "cell_type": "code",
   "execution_count": 3,
   "id": "6840ad68",
   "metadata": {},
   "outputs": [],
   "source": [
    "PROJ_FILE_NAME = 'test_proj'\n",
    "MODEL_NAME = 'test_model'\n",
    "\n",
    "MATRIX_DIM = (4, 26)"
   ]
  },
  {
   "cell_type": "code",
   "execution_count": 12,
   "id": "106a057e",
   "metadata": {},
   "outputs": [],
   "source": [
    "# --- Projection and model files for complete dataset (~78k rows) ---\n",
    "\n",
    "# PROJ_FILE_NAME = 'dirichlet_proj'\n",
    "# MODEL_NAME = 'model_simple_nn'"
   ]
  },
  {
   "cell_type": "markdown",
   "id": "5003ff48",
   "metadata": {},
   "source": [
    "### Calculate and save Dirichlet projections"
   ]
  },
  {
   "cell_type": "code",
   "execution_count": 4,
   "id": "7495841b",
   "metadata": {},
   "outputs": [
    {
     "name": "stdout",
     "output_type": "stream",
     "text": [
      "Distribution of first Hodge numbers:  [(6, 1), (7, 13), (8, 113), (9, 409), (10, 1148), (11, 2395), (12, 4164), (13, 5976), (14, 7635), (15, 8578), (16, 8848), (17, 8170), (18, 7489), (19, 6049), (20, 4900), (21, 3830), (22, 2699), (23, 1972), (24, 1387), (25, 942), (26, 593), (27, 411), (28, 294), (29, 192), (30, 109), (31, 58), (32, 37), (33, 23), (34, 15), (35, 7), (36, 5), (37, 1), (38, 2), (39, 1), (42, 1)]\n",
      "Fixed point (x0) used:  [[ 1.1712386   5.39716452 -3.36204844 -7.62748005 -6.99759324  3.54881636\n",
      "   4.12697184  1.07979268  5.2350386  -7.34003505  5.21495319 -6.79695338\n",
      "   2.38286511  0.2248728   1.1146488  -7.41698295  2.23264106  0.55651819\n",
      "  -1.47618912 -3.64904178 -4.29466839 -7.17929626 -3.865437    3.60472616\n",
      "  -1.71685172  0.50640782]\n",
      " [ 3.03846043  2.3324441  -6.99972747  0.66465547 -3.62255934 -6.25241803\n",
      "  -4.85942422 -1.61195055  5.86649164 -2.04314667  5.48655367 -4.89406694\n",
      "   1.34003729  5.83557079  4.46544163 -1.90714389  1.85469414  4.33725819\n",
      "  -6.39385325  1.1126646  -3.45607955  3.72079858 -5.13418463  5.14670112\n",
      "   5.10338107 -1.50944532]\n",
      " [-0.97082044  0.59486095  3.20584548  4.20280297  2.84412588  0.06156638\n",
      "   1.49923069 -5.75153302 -7.67285597 -1.99708391 -0.70455787  0.98688912\n",
      "   3.23833271 -6.26660352 -0.03780311  3.81545579  4.69422698 -6.78930391\n",
      "  -3.48215593  2.94966999 -7.30402613  0.90466474  4.64789243 -2.65469785\n",
      "  -3.93450214 -0.77937214]\n",
      " [ 0.13737325  0.74429592 -5.65330934  4.57766425 -1.83164706 -5.9620283\n",
      "   0.8171767   5.81246485  0.18843566  5.3730624  -1.25580786 -1.81375223\n",
      "  -2.58620219  2.23100532 -1.34637707  3.76437476 -7.16512087  4.21221285\n",
      "   4.9619666  -7.73885966 -1.1362298   1.12687442 -6.62909779  4.67193303\n",
      "   0.93385224  2.55889953]]\n",
      "Starting Dirichlet projection calculation...\n"
     ]
    },
    {
     "name": "stderr",
     "output_type": "stream",
     "text": [
      "  0%|                                                    | 0/200 [00:00<?, ?it/s]/Users/pragyasingh/PycharmProjects/LOGML2/orig_repo/kreuzer-skarke-ML/fundamental_domain_projections/matrix_permutation_auxiliaryfunctions.py:64: FutureWarning: elementwise comparison failed; returning scalar instead, but in the future will perform elementwise comparison\n",
      "  if x0=='Daniel':\n",
      "100%|█████████████████████████████████████████| 200/200 [00:00<00:00, 510.83it/s]\n"
     ]
    },
    {
     "name": "stdout",
     "output_type": "stream",
     "text": [
      "...finished Dirichlet projection calculation.\n",
      "Saving projection to /Users/pragyasingh/PycharmProjects/LOGML2/orig_repo/kreuzer-skarke-ML/data/raw/test_proj\n"
     ]
    }
   ],
   "source": [
    "# --- Input data ---\n",
    "X, Y = parse_txt_file()\n",
    "X, Y = X[:200], Y[:200]  # taking a subset for quick test run\n",
    "\n",
    "# --- Dirichlet projections ---\n",
    "X_proj = DirichletDataset(X, Y, MATRIX_DIM, save_proj=True, file_name=PROJ_FILE_NAME).X_proj"
   ]
  },
  {
   "cell_type": "markdown",
   "id": "546d7acd",
   "metadata": {},
   "source": [
    "### Load Dirichlet projections"
   ]
  },
  {
   "cell_type": "code",
   "execution_count": 5,
   "id": "cd2f1604",
   "metadata": {},
   "outputs": [
    {
     "name": "stdout",
     "output_type": "stream",
     "text": [
      "Loading projection from /Users/pragyasingh/PycharmProjects/LOGML2/orig_repo/kreuzer-skarke-ML/data/raw/test_proj.npz ...\n",
      "...finished loading\n"
     ]
    }
   ],
   "source": [
    "diric_proj = DirichletDataset(load_proj=True, file_name=PROJ_FILE_NAME)\n",
    "X, Y, X_proj = diric_proj.X, diric_proj.Y, diric_proj.X_proj"
   ]
  },
  {
   "cell_type": "markdown",
   "id": "1b4926e6",
   "metadata": {},
   "source": [
    "### Train ML model"
   ]
  },
  {
   "cell_type": "code",
   "execution_count": 6,
   "id": "3d616483",
   "metadata": {},
   "outputs": [],
   "source": [
    "def get_nn():\n",
    "    inp = tf.keras.layers.Input(shape=(4, 26,))\n",
    "    prep = tf.keras.layers.Reshape((4 * 26,))(inp)\n",
    "    h1 = tf.keras.layers.Dense(100, activation='relu')(prep)\n",
    "    h2 = tf.keras.layers.Dense(50, activation='relu')(h1)\n",
    "    h3 = tf.keras.layers.Dense(50, activation='relu')(h2)\n",
    "    out = tf.keras.layers.Dense(43, activation='softmax')(h3)\n",
    "\n",
    "    model = tf.keras.models.Model(inputs=inp, outputs=out)\n",
    "    model.compile(\n",
    "        loss='sparse_categorical_crossentropy',\n",
    "        optimizer=tf.keras.optimizers.Adam(0.001),\n",
    "        metrics=['accuracy'],\n",
    "    )\n",
    "    return model"
   ]
  },
  {
   "cell_type": "code",
   "execution_count": 7,
   "id": "022dc9a1",
   "metadata": {},
   "outputs": [
    {
     "name": "stderr",
     "output_type": "stream",
     "text": [
      "2022-07-14 00:14:34.699670: I tensorflow/core/platform/cpu_feature_guard.cc:193] This TensorFlow binary is optimized with oneAPI Deep Neural Network Library (oneDNN) to use the following CPU instructions in performance-critical operations:  SSE4.2\n",
      "To enable them in other operations, rebuild TensorFlow with the appropriate compiler flags.\n"
     ]
    },
    {
     "name": "stdout",
     "output_type": "stream",
     "text": [
      "Epoch 1/20\n",
      "4/4 [==============================] - 0s 36ms/step - loss: 3.7185 - accuracy: 0.0100 - val_loss: 3.3725 - val_accuracy: 0.0700\n",
      "Epoch 2/20\n",
      "4/4 [==============================] - 0s 7ms/step - loss: 3.2240 - accuracy: 0.1700 - val_loss: 2.9714 - val_accuracy: 0.3400\n",
      "Epoch 3/20\n",
      "4/4 [==============================] - 0s 7ms/step - loss: 2.7967 - accuracy: 0.5000 - val_loss: 2.5221 - val_accuracy: 0.5000\n",
      "Epoch 4/20\n",
      "4/4 [==============================] - 0s 7ms/step - loss: 2.3040 - accuracy: 0.5900 - val_loss: 2.0121 - val_accuracy: 0.5900\n",
      "Epoch 5/20\n",
      "4/4 [==============================] - 0s 7ms/step - loss: 1.7763 - accuracy: 0.5900 - val_loss: 1.5375 - val_accuracy: 0.5900\n",
      "Epoch 6/20\n",
      "4/4 [==============================] - 0s 7ms/step - loss: 1.3264 - accuracy: 0.5800 - val_loss: 1.2274 - val_accuracy: 0.5900\n",
      "Epoch 7/20\n",
      "4/4 [==============================] - 0s 7ms/step - loss: 1.0412 - accuracy: 0.6300 - val_loss: 1.1049 - val_accuracy: 0.5300\n",
      "Epoch 8/20\n",
      "4/4 [==============================] - 0s 7ms/step - loss: 0.9229 - accuracy: 0.7200 - val_loss: 1.0836 - val_accuracy: 0.5000\n",
      "Epoch 9/20\n",
      "4/4 [==============================] - 0s 7ms/step - loss: 0.8615 - accuracy: 0.7500 - val_loss: 1.0457 - val_accuracy: 0.5000\n",
      "Epoch 10/20\n",
      "4/4 [==============================] - 0s 6ms/step - loss: 0.7872 - accuracy: 0.7600 - val_loss: 1.0042 - val_accuracy: 0.5400\n",
      "Epoch 11/20\n",
      "4/4 [==============================] - 0s 7ms/step - loss: 0.7039 - accuracy: 0.7700 - val_loss: 0.9648 - val_accuracy: 0.5300\n",
      "Epoch 12/20\n",
      "4/4 [==============================] - 0s 7ms/step - loss: 0.6198 - accuracy: 0.7700 - val_loss: 0.9596 - val_accuracy: 0.5700\n",
      "Epoch 13/20\n",
      "4/4 [==============================] - 0s 7ms/step - loss: 0.5736 - accuracy: 0.7700 - val_loss: 0.9526 - val_accuracy: 0.5100\n",
      "Epoch 14/20\n",
      "4/4 [==============================] - 0s 7ms/step - loss: 0.5242 - accuracy: 0.8600 - val_loss: 0.9871 - val_accuracy: 0.4400\n",
      "Epoch 15/20\n",
      "4/4 [==============================] - 0s 7ms/step - loss: 0.5090 - accuracy: 0.8900 - val_loss: 0.9851 - val_accuracy: 0.4600\n",
      "Epoch 16/20\n",
      "4/4 [==============================] - 0s 7ms/step - loss: 0.4561 - accuracy: 0.9100 - val_loss: 0.9724 - val_accuracy: 0.5100\n",
      "Epoch 17/20\n",
      "4/4 [==============================] - 0s 7ms/step - loss: 0.4349 - accuracy: 0.8400 - val_loss: 1.0063 - val_accuracy: 0.5600\n",
      "Epoch 18/20\n",
      "4/4 [==============================] - 0s 7ms/step - loss: 0.4001 - accuracy: 0.8500 - val_loss: 0.9875 - val_accuracy: 0.5200\n",
      "Epoch 19/20\n",
      "4/4 [==============================] - 0s 7ms/step - loss: 0.3607 - accuracy: 0.9400 - val_loss: 1.0177 - val_accuracy: 0.4900\n",
      "Epoch 20/20\n",
      "4/4 [==============================] - 0s 6ms/step - loss: 0.3315 - accuracy: 0.9400 - val_loss: 1.0279 - val_accuracy: 0.5000\n"
     ]
    }
   ],
   "source": [
    "model = get_nn()\n",
    "\n",
    "X_new, Y_new = {}, {}\n",
    "X_new['train'], X_new['test'], Y_new['train'], Y_new['test'] = train_test_split(X_proj, Y, test_size=0.5)\n",
    "\n",
    "result = model.fit(\n",
    "    X_new['train'], Y_new['train'],\n",
    "    epochs=20,\n",
    "    validation_data=(X_new['test'], Y_new['test']),\n",
    ")"
   ]
  },
  {
   "cell_type": "markdown",
   "id": "a35b9bd0",
   "metadata": {},
   "source": [
    "### Save model and results"
   ]
  },
  {
   "cell_type": "code",
   "execution_count": 8,
   "id": "4bf17a22",
   "metadata": {},
   "outputs": [],
   "source": [
    "def save_results_as_csv(results_dict, file_name):\n",
    "    base_dir = os.path.abspath('../')\n",
    "    rawpath = os.path.join(base_dir, 'data/saved_results/' + file_name + '.csv')\n",
    "    print('Saving results as csv in  %s' % rawpath)\n",
    "    df = pd.DataFrame(results_dict)\n",
    "    df.to_csv(rawpath)\n",
    "\n",
    "def saved_model(model, model_name):\n",
    "    base_dir = os.path.abspath('../')\n",
    "    rawpath = os.path.join(base_dir, 'data/saved_models/' + model_name + '.h5')\n",
    "    print('Saving model to %s' % rawpath)\n",
    "    tf.keras.models.save_model(model, rawpath)"
   ]
  },
  {
   "cell_type": "code",
   "execution_count": 9,
   "id": "b986697e",
   "metadata": {},
   "outputs": [
    {
     "name": "stdout",
     "output_type": "stream",
     "text": [
      "Saving model to /Users/pragyasingh/PycharmProjects/LOGML2/orig_repo/kreuzer-skarke-ML/data/saved_models/test_model.h5\n",
      "Saving results as csv in  /Users/pragyasingh/PycharmProjects/LOGML2/orig_repo/kreuzer-skarke-ML/data/saved_results/test_model.csv\n"
     ]
    }
   ],
   "source": [
    "saved_model(model, MODEL_NAME)\n",
    "save_results_as_csv(result.history, MODEL_NAME)"
   ]
  },
  {
   "cell_type": "markdown",
   "id": "65dd64a1",
   "metadata": {},
   "source": [
    "### Load and re-use saved model"
   ]
  },
  {
   "cell_type": "code",
   "execution_count": 10,
   "id": "f85afe33",
   "metadata": {},
   "outputs": [],
   "source": [
    "def load_model(model_name):\n",
    "    base_dir = os.path.abspath('../')\n",
    "    rawpath = os.path.join(base_dir, 'data/saved_models/' + model_name + '.h5')\n",
    "    print('Loading model from %s' % rawpath)\n",
    "    model = tf.keras.models.load_model(rawpath)\n",
    "    print(model.summary())\n",
    "    return model"
   ]
  },
  {
   "cell_type": "code",
   "execution_count": 11,
   "id": "e6b6e187",
   "metadata": {},
   "outputs": [
    {
     "name": "stdout",
     "output_type": "stream",
     "text": [
      "Loading model from /Users/pragyasingh/PycharmProjects/LOGML2/orig_repo/kreuzer-skarke-ML/data/saved_models/test_model.h5\n",
      "Model: \"model\"\n",
      "_________________________________________________________________\n",
      " Layer (type)                Output Shape              Param #   \n",
      "=================================================================\n",
      " input_1 (InputLayer)        [(None, 4, 26)]           0         \n",
      "                                                                 \n",
      " reshape (Reshape)           (None, 104)               0         \n",
      "                                                                 \n",
      " dense (Dense)               (None, 100)               10500     \n",
      "                                                                 \n",
      " dense_1 (Dense)             (None, 50)                5050      \n",
      "                                                                 \n",
      " dense_2 (Dense)             (None, 50)                2550      \n",
      "                                                                 \n",
      " dense_3 (Dense)             (None, 43)                2193      \n",
      "                                                                 \n",
      "=================================================================\n",
      "Total params: 20,293\n",
      "Trainable params: 20,293\n",
      "Non-trainable params: 0\n",
      "_________________________________________________________________\n",
      "None\n",
      "Epoch 1/20\n",
      "4/4 [==============================] - 0s 30ms/step - loss: 0.7298 - accuracy: 0.7000 - val_loss: 0.5876 - val_accuracy: 0.7600\n",
      "Epoch 2/20\n",
      "4/4 [==============================] - 0s 6ms/step - loss: 0.6999 - accuracy: 0.7500 - val_loss: 0.6438 - val_accuracy: 0.7300\n",
      "Epoch 3/20\n",
      "4/4 [==============================] - 0s 7ms/step - loss: 0.6529 - accuracy: 0.7200 - val_loss: 0.6204 - val_accuracy: 0.7500\n",
      "Epoch 4/20\n",
      "4/4 [==============================] - 0s 7ms/step - loss: 0.5491 - accuracy: 0.7700 - val_loss: 0.6035 - val_accuracy: 0.7700\n",
      "Epoch 5/20\n",
      "4/4 [==============================] - 0s 7ms/step - loss: 0.4992 - accuracy: 0.7400 - val_loss: 0.6071 - val_accuracy: 0.7500\n",
      "Epoch 6/20\n",
      "4/4 [==============================] - 0s 7ms/step - loss: 0.4408 - accuracy: 0.7900 - val_loss: 0.5892 - val_accuracy: 0.7500\n",
      "Epoch 7/20\n",
      "4/4 [==============================] - 0s 7ms/step - loss: 0.3803 - accuracy: 0.8600 - val_loss: 0.6115 - val_accuracy: 0.7400\n",
      "Epoch 8/20\n",
      "4/4 [==============================] - 0s 7ms/step - loss: 0.3473 - accuracy: 0.9000 - val_loss: 0.6236 - val_accuracy: 0.7300\n",
      "Epoch 9/20\n",
      "4/4 [==============================] - 0s 7ms/step - loss: 0.2998 - accuracy: 0.9200 - val_loss: 0.6630 - val_accuracy: 0.6700\n",
      "Epoch 10/20\n",
      "4/4 [==============================] - 0s 7ms/step - loss: 0.2644 - accuracy: 0.9800 - val_loss: 0.7333 - val_accuracy: 0.6500\n",
      "Epoch 11/20\n",
      "4/4 [==============================] - 0s 7ms/step - loss: 0.2473 - accuracy: 0.9700 - val_loss: 0.7351 - val_accuracy: 0.6500\n",
      "Epoch 12/20\n",
      "4/4 [==============================] - 0s 7ms/step - loss: 0.2052 - accuracy: 0.9700 - val_loss: 0.7301 - val_accuracy: 0.6400\n",
      "Epoch 13/20\n",
      "4/4 [==============================] - 0s 7ms/step - loss: 0.1840 - accuracy: 0.9700 - val_loss: 0.7355 - val_accuracy: 0.6400\n",
      "Epoch 14/20\n",
      "4/4 [==============================] - 0s 6ms/step - loss: 0.1601 - accuracy: 0.9700 - val_loss: 0.7435 - val_accuracy: 0.6500\n",
      "Epoch 15/20\n",
      "4/4 [==============================] - 0s 7ms/step - loss: 0.1284 - accuracy: 1.0000 - val_loss: 0.7461 - val_accuracy: 0.6800\n",
      "Epoch 16/20\n",
      "4/4 [==============================] - 0s 7ms/step - loss: 0.1159 - accuracy: 1.0000 - val_loss: 0.7504 - val_accuracy: 0.6900\n",
      "Epoch 17/20\n",
      "4/4 [==============================] - 0s 7ms/step - loss: 0.1045 - accuracy: 1.0000 - val_loss: 0.7726 - val_accuracy: 0.6900\n",
      "Epoch 18/20\n",
      "4/4 [==============================] - 0s 7ms/step - loss: 0.0872 - accuracy: 1.0000 - val_loss: 0.8288 - val_accuracy: 0.6800\n",
      "Epoch 19/20\n",
      "4/4 [==============================] - 0s 7ms/step - loss: 0.0803 - accuracy: 1.0000 - val_loss: 0.8880 - val_accuracy: 0.6700\n",
      "Epoch 20/20\n",
      "4/4 [==============================] - 0s 7ms/step - loss: 0.0699 - accuracy: 1.0000 - val_loss: 0.8671 - val_accuracy: 0.6800\n"
     ]
    }
   ],
   "source": [
    "model = load_model(MODEL_NAME)\n",
    "\n",
    "X_new, Y_new = {}, {}\n",
    "X_new['train'], X_new['test'], Y_new['train'], Y_new['test'] = train_test_split(X_proj, Y, test_size=0.5)\n",
    "\n",
    "result = model.fit(\n",
    "    X_new['train'], Y_new['train'],\n",
    "    epochs=20,\n",
    "    validation_data=(X_new['test'], Y_new['test']),\n",
    ")"
   ]
  }
 ],
 "metadata": {
  "kernelspec": {
   "display_name": "Python 3 (ipykernel)",
   "language": "python",
   "name": "python3"
  },
  "language_info": {
   "codemirror_mode": {
    "name": "ipython",
    "version": 3
   },
   "file_extension": ".py",
   "mimetype": "text/x-python",
   "name": "python",
   "nbconvert_exporter": "python",
   "pygments_lexer": "ipython3",
   "version": "3.9.13"
  }
 },
 "nbformat": 4,
 "nbformat_minor": 5
}
