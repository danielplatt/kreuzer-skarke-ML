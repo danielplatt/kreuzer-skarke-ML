{
  "nbformat": 4,
  "nbformat_minor": 0,
  "metadata": {
    "colab": {
      "name": "XGBoost.ipynb",
      "provenance": [],
      "collapsed_sections": []
    },
    "kernelspec": {
      "name": "python3",
      "display_name": "Python 3"
    },
    "language_info": {
      "name": "python"
    }
  },
  "cells": [
    {
      "cell_type": "code",
      "execution_count": 2,
      "metadata": {
        "id": "uRa14rWQxTsl"
      },
      "outputs": [],
      "source": [
        "import numpy as np\n",
        "import os\n",
        "import re\n",
        "from collections import Counter\n",
        "\n",
        "\n",
        "def single_matrix_from_string(matstringlist) -> np.array:\n",
        "    fullmatrix = []\n",
        "    for line in matstringlist:\n",
        "        fullmatrix += [[float(x) for x in line.split()]]\n",
        "    print(np.array(fullmatrix).shape)\n",
        "    assert np.array(fullmatrix).shape == (4, 26)\n",
        "    return np.array(fullmatrix)\n",
        "\n",
        "def extract_hodge_number_from_string(metastring) -> int:\n",
        "    hodge_search = re.search('H:(.*),', metastring)\n",
        "    if hodge_search:\n",
        "        hodgestring = hodge_search.group(1)\n",
        "        return int(hodgestring)\n",
        "\n",
        "def parse_txt_file():\n",
        "    X = []\n",
        "    y = []\n",
        "    with open('v26') as file:\n",
        "        counter = 0\n",
        "        reading_buffer = []\n",
        "        for line in file:\n",
        "            counter += 1\n",
        "            reading_buffer += [line.rstrip()]\n",
        "            if counter % 5 == 0:\n",
        "                print(counter)\n",
        "                #print(reading_buffer)\n",
        "                try:\n",
        "                    new_y = extract_hodge_number_from_string(reading_buffer[0])\n",
        "                    new_X = single_matrix_from_string(reading_buffer[1:5])\n",
        "                except AssertionError as e:\n",
        "                    break\n",
        "                y += [new_y]\n",
        "                X += [new_X]\n",
        "                reading_buffer = []\n",
        "    print(Counter(y))\n",
        "    return np.array(X), np.array(y)\n",
        "X, y = parse_txt_file()"
      ]
    },
    {
      "cell_type": "code",
      "source": [
        "X_re = X.reshape(69770,4*26)\n",
        "import numpy as np\n",
        "import pandas as pd\n",
        "import matplotlib.pyplot as plt\n",
        "from sklearn.model_selection import train_test_split\n",
        "from sklearn.metrics import mean_squared_error\n",
        "from sklearn import ensemble\n",
        "x_train, x_test, y_train, y_test = train_test_split(X_re, y, test_size = 0.5, random_state = 4)"
      ],
      "metadata": {
        "id": "GgmkKYqeyBMU"
      },
      "execution_count": 4,
      "outputs": []
    },
    {
      "cell_type": "code",
      "source": [
        "import xgboost as xgb\n",
        "# XGBoost in action...\n",
        "\n",
        "params = {'n_estimators': 10000, \"objective\":\"reg:linear\",'colsample_bytree': 0.5,'learning_rate': 0.01,\n",
        "                'max_depth': 4, 'alpha': 1}\n",
        "xg_reg = xgb.XGBRegressor(**params)\n",
        "xg_reg.fit(x_train,y_train)\n",
        "y_predicted = xg_reg.predict(x_test)\n",
        "#accuracy check\n",
        "(np.sum(np.round(y_predicted) == y_test))/len(y_test)"
      ],
      "metadata": {
        "colab": {
          "base_uri": "https://localhost:8080/"
        },
        "id": "H8JebfnmQm36",
        "outputId": "8c8ba8a6-b2ee-4a07-f553-15e1f21502b6"
      },
      "execution_count": 5,
      "outputs": [
        {
          "output_type": "stream",
          "name": "stdout",
          "text": [
            "[16:44:21] WARNING: /workspace/src/objective/regression_obj.cu:152: reg:linear is now deprecated in favor of reg:squarederror.\n"
          ]
        },
        {
          "output_type": "execute_result",
          "data": {
            "text/plain": [
              "0.42946825283072954"
            ]
          },
          "metadata": {},
          "execution_count": 5
        }
      ]
    },
    {
      "cell_type": "code",
      "source": [
        "#XGBoost Visualizations\n",
        "params = {\"objective\":\"reg:linear\",'colsample_bytree': 0.5,'learning_rate': 0.01, 'max_depth': 4, 'alpha': 1}\n",
        "data_dmatrix = xgb.DMatrix(data=X_re,label=y)\n",
        "xg_reg = xgb.train(params=params, dtrain=data_dmatrix, num_boost_round=10)\n",
        "xgb.plot_tree(xg_reg,num_trees=9)\n",
        "plt.rcParams['figure.figsize'] = (200, 100)\n",
        "plt.show()\n",
        "#plt.savefig('filename.png', dpi=300)"
      ],
      "metadata": {
        "colab": {
          "base_uri": "https://localhost:8080/",
          "height": 102
        },
        "id": "frGgWQyujmtu",
        "outputId": "56f233e0-50dd-4a92-95b7-1653722d3359"
      },
      "execution_count": 6,
      "outputs": [
        {
          "output_type": "stream",
          "name": "stdout",
          "text": [
            "[16:55:02] WARNING: /workspace/src/objective/regression_obj.cu:152: reg:linear is now deprecated in favor of reg:squarederror.\n"
          ]
        },
        {
          "output_type": "display_data",
          "data": {
            "text/plain": [
              "<Figure size 432x288 with 1 Axes>"
            ],
            "image/png": "[encoded data removed]"
          },
          "metadata": {
            "needs_background": "light"
          }
        }
      ]
    },
    {
      "cell_type": "code",
      "source": [
        "# Gradient boosting in action...\n",
        "'''\n",
        "params = {'n_estimators': 1000, 'max_depth': 6, 'min_samples_split': 10, 'learning_rate': 0.01}\n",
        "model = ensemble.GradientBoostingClassifier(**params)\n",
        "\n",
        "model.fit(x_train, y_train)\n",
        "'''"
      ],
      "metadata": {
        "colab": {
          "base_uri": "https://localhost:8080/"
        },
        "id": "DjSFwdPFyOAc",
        "outputId": "eb068971-a8de-47b7-d175-214174991935"
      },
      "execution_count": 10,
      "outputs": [
        {
          "output_type": "execute_result",
          "data": {
            "text/plain": [
              "GradientBoostingClassifier(learning_rate=0.01, max_depth=6,\n",
              "                           min_samples_split=10, n_estimators=1000)"
            ]
          },
          "metadata": {},
          "execution_count": 10
        }
      ]
    },
    {
      "cell_type": "code",
      "source": [
        "'''\n",
        "from sklearn.metrics import mean_squared_error, r2_score\n",
        "model_score = model.score(x_train,y_train)\n",
        "print('R2 sq: ',model_score)\n",
        "\n",
        "y_predicted = model.predict(x_test)\n",
        "# The mean squared error\n",
        "print(\"Mean squared error: %.2f\"% mean_squared_error(y_test, y_predicted))\n",
        "# Explained variance score: 1 is perfect prediction\n",
        "print('Test Variance score: %.2f' % r2_score(y_test, y_predicted))\n",
        "#\n",
        "'''"
      ],
      "metadata": {
        "colab": {
          "base_uri": "https://localhost:8080/"
        },
        "id": "_ugS059KyQRp",
        "outputId": "0e522fcd-0923-4731-e9a8-e5bd678aee0c"
      },
      "execution_count": 11,
      "outputs": [
        {
          "output_type": "stream",
          "name": "stdout",
          "text": [
            "R2 sq:  0.6962519707610721\n",
            "Mean squared error: 2.51\n",
            "Test Variance score: 0.68\n"
          ]
        }
      ]
    },
    {
      "cell_type": "code",
      "source": [
        "'''\n",
        "# So let's run the model against the test data\n",
        "from sklearn.model_selection import cross_val_predict\n",
        "\n",
        "fig, ax = plt.subplots()\n",
        "ax.scatter(y_test, y_predicted, edgecolors=(0, 0, 0))\n",
        "ax.plot([y_test.min(), y_test.max()], [y_test.min(), y_test.max()], 'k--', lw=4)\n",
        "ax.set_xlabel('Actual')\n",
        "ax.set_ylabel('Predicted')\n",
        "ax.set_title(\"Ground Truth vs Predicted\")\n",
        "plt.show()\n",
        "'''"
      ],
      "metadata": {
        "colab": {
          "base_uri": "https://localhost:8080/",
          "height": 295
        },
        "id": "PmLRMsU1ySfn",
        "outputId": "2c0c3b80-e75c-4c92-83b6-913900cc6a61"
      },
      "execution_count": 12,
      "outputs": [
        {
          "output_type": "display_data",
          "data": {
            "text/plain": [
              "<Figure size 432x288 with 1 Axes>"
            ],
            "image/png": "[encoded data removed]"
          },
          "metadata": {
            "needs_background": "light"
          }
        }
      ]
    },
    {
      "cell_type": "code",
      "source": [
        ""
      ],
      "metadata": {
        "id": "Cop1rcghxrfG"
      },
      "execution_count": null,
      "outputs": []
    }
  ]
}