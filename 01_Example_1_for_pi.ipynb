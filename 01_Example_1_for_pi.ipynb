{
 "cells": [
  {
   "cell_type": "code",
   "execution_count": 168,
   "id": "b0ff0fb9",
   "metadata": {},
   "outputs": [],
   "source": [
    "import os, sys, json, numpy as np, pandas as pd, pickle, itertools\n",
    "from sklearn.preprocessing import MinMaxScaler\n",
    "from typing import TypeVar, Union, List, Literal, Tuple"
   ]
  },
  {
   "cell_type": "code",
   "execution_count": 39,
   "id": "08ed2cbc",
   "metadata": {},
   "outputs": [],
   "source": [
    "x = np.array([\n",
    "    [5, 3, 3],\n",
    "    [4, 0, 0],\n",
    "    [3, 5, 1]\n",
    "])"
   ]
  },
  {
   "cell_type": "code",
   "execution_count": 230,
   "id": "2974d1ac",
   "metadata": {},
   "outputs": [],
   "source": [
    "def create_perturbation(\n",
    "    X:np.ndarray, \n",
    "    kind:str='guassian', \n",
    "    feature_range:Tuple[float, float]=(-0.01, 0.01), \n",
    "    scale:float=1\n",
    ") -> np.ndarray:\n",
    "    '''\n",
    "    Arguments:\n",
    "    ----------\n",
    "        X (np.ndarray): Input data matrix\n",
    "        \n",
    "        kind (str): Defaults to `'guassian'`. The kind of noise to generate.\n",
    "        \n",
    "        feature_range (Tuple[float, float]): Feature range to limit the noise to.\n",
    "            Defaults to `(-0.01, 0.01)`.\n",
    "        \n",
    "        scale (float): Defaults  to `1`. A post min-max re-scaling via simple \n",
    "            multiplication to give further control over the noise.\n",
    "    \n",
    "    Return:\n",
    "    ----------\n",
    "        noise (np.ndarray): noise in the shape of `X`\n",
    "    '''\n",
    "    # create noise\n",
    "    noise_fn = np.random.randn if kind == 'guassian' else np.random.rand\n",
    "    noise = noise_fn(*X.shape)\n",
    "    \n",
    "    # rescale noise to be within certain range\n",
    "    mms = MinMaxScaler(feature_range=feature_range)\n",
    "    noise = mms.fit_transform(noise)\n",
    "    noise *= scale\n",
    "    return noise"
   ]
  },
  {
   "cell_type": "code",
   "execution_count": 231,
   "id": "9f4c6062",
   "metadata": {},
   "outputs": [],
   "source": [
    "def get_swap_coords(X:np.ndarray) -> Tuple[int, int]:\n",
    "    '''\n",
    "    Arguments:\n",
    "    ----------\n",
    "        X (np.ndarray): Input data matrix\n",
    "        \n",
    "    Returns:\n",
    "    ----------\n",
    "        row_loc (int): row of the min of `X`\n",
    "        col_loc (int): col of the min of `X`\n",
    "    '''\n",
    "    row_loc, col_loc = np.where(X == X.min())\n",
    "    \n",
    "    row_loc = row_loc[0]\n",
    "    col_loc = col_loc[0]\n",
    "    return row_loc, col_loc"
   ]
  },
  {
   "cell_type": "code",
   "execution_count": 232,
   "id": "6ebda921",
   "metadata": {},
   "outputs": [],
   "source": [
    "def swap(\n",
    "    X:np.ndarray, \n",
    "    i_loc:int, \n",
    "    j_loc:int, \n",
    "    axis:int=0\n",
    ") -> np.ndarray:\n",
    "    '''\n",
    "    Arguments:\n",
    "    ----------\n",
    "        X (np.ndarray): Input data matrix\n",
    "        \n",
    "        i_loc (int): The desired row / column location to swap to\n",
    "        \n",
    "        j_loc (int): The desired row / column to swap\n",
    "        \n",
    "        axis (int): Whether to swap rows (`axis=0`) or columns (`axis=1`)\n",
    "    \n",
    "    Returns:\n",
    "    ----------\n",
    "        X (np.ndarray): The input matrix after the specified swap\n",
    "    '''\n",
    "    x = X.copy()\n",
    "    if axis == 0:\n",
    "        x[[i_loc, j_loc], :] = x[[j_loc, i_loc], :]\n",
    "    elif axis == 1:\n",
    "        x[:, [i_loc, j_loc]] = x[:, [j_loc, i_loc]]\n",
    "    else:\n",
    "        raise ValueError(f'swap only works on 2D matrices')    \n",
    "    return x"
   ]
  },
  {
   "cell_type": "code",
   "execution_count": 233,
   "id": "477ee896",
   "metadata": {},
   "outputs": [],
   "source": [
    "def anchor_min_to_00(\n",
    "    X:np.ndarray, \n",
    "    coords:Tuple[int, int]=None\n",
    "):\n",
    "    '''\n",
    "    Utility function for readability\n",
    "    \n",
    "     Arguments:\n",
    "    ----------\n",
    "        X (np.ndarray): Input data matrix\n",
    "        \n",
    "        coords (Tuple[int, int]): Defaults to `None`. The row and column indicies\n",
    "            that specifying the minimum element of `X` that needs to be moved to \n",
    "            the location `[0, 0]`. If `coords=None`, min will be calculated from `X`.\n",
    "            If `coords` are provided, will apply this transformation on `X` without\n",
    "            checking. Note this is used to swap the noise accordingly in our \n",
    "            fundamental domain projection function.\n",
    "               \n",
    "    Returns:\n",
    "    ----------\n",
    "        X (np.ndarray): The input matrix where the min element (or the element located \n",
    "            at the given `coords`) are moved to `[0, 0]`.\n",
    "    \n",
    "    '''\n",
    "    x = X.copy()\n",
    "    if coords is None:\n",
    "        r, c = get_swap_coords(x)\n",
    "    else:\n",
    "        r, c = coords\n",
    "    x = swap(x, 0, r, axis=0)\n",
    "    x = swap(x, 0, c, axis=1)\n",
    "    return x"
   ]
  },
  {
   "cell_type": "code",
   "execution_count": 234,
   "id": "101def15",
   "metadata": {},
   "outputs": [],
   "source": [
    "def sort_first_row_first_col(\n",
    "    X:np.ndarray, \n",
    "    return_order:bool=True\n",
    ") -> Union[np.ndarray, Tuple[np.ndarray, np.ndarray, np.ndarray]]:\n",
    "    '''\n",
    "    Sort `X` ascending by the first row and first column values.\n",
    "    \n",
    "     Arguments:\n",
    "    ----------\n",
    "        X (np.ndarray): Input data matrix\n",
    "        \n",
    "        return_order (bool): Defaults to `True`. Whether or not to return the sort oders\n",
    "            for the columns and rows.\n",
    "               \n",
    "    Returns:\n",
    "    ----------\n",
    "    \n",
    "        X (np.ndarray): The input matrix where the min element (or the element located \n",
    "            at the given `coords`) are moved to `[0, 0]`.\n",
    "            \n",
    "        first_row_column_order (np.ndarray): Only returned if `return_order=True`. The\n",
    "            order in which to sort the columns based on first row.\n",
    "        \n",
    "        first_column_row_order (np.ndarray): Only returned if `return_order=True`. The\n",
    "            order in which to sort the rows based on first column.            \n",
    "    '''\n",
    "    row1_col_order = X[0].argsort()\n",
    "    col1_row_order = X[:, 0].argsort()\n",
    "    x = X[:, row1_col_order][col1_row_order, :]\n",
    "    if return_order:\n",
    "        return x, row1_col_order, col1_row_order\n",
    "    return x"
   ]
  },
  {
   "cell_type": "code",
   "execution_count": 236,
   "id": "d1a9727f",
   "metadata": {},
   "outputs": [],
   "source": [
    "def sort_rows(\n",
    "    X:np.ndarray, \n",
    "    by:str='sum', \n",
    "    axis:int=1, \n",
    "    return_order:bool=False\n",
    ")->np.ndarray:\n",
    "    '''\n",
    "    Sort `X`'s rows by the specified numpy function applied on a given axis.\n",
    "    \n",
    "     Arguments:\n",
    "    ----------\n",
    "        X (np.ndarray): Input data matrix\n",
    "        \n",
    "        by (str): Function to apply on `X`. Choices include:\n",
    "            `'sum'`, `'min'`, `'max'`, `'mean'`.\n",
    "        \n",
    "        axis (int): Defaults to `1`. The axis on which to apply the function specified\n",
    "            by `by` on. Note `X` is still row sorted by the result.\n",
    "    \n",
    "        return_order (bool): Defaults to `True`. Whether or not to return the sort oders\n",
    "            for the columns and rows.\n",
    "               \n",
    "    Returns:\n",
    "    ----------\n",
    "        X (np.ndarray): The input matrix where the min element (or the element located \n",
    "            at the given `coords`) are moved to `[0, 0]`. Only returned if `return_order=False`.\n",
    "            \n",
    "        sort_order (np.ndarray): The order in which to sort the rows. \n",
    "            Only returned if `return_order=True`.         \n",
    "    '''\n",
    "    _valid_by = 'sum min max mean'.split()\n",
    "    if by not in _valid_by:\n",
    "        raise ValueError(f'by={by} is unknown. Try one of {_valid_by}')\n",
    "    \n",
    "    fn = getattr(np, by)\n",
    "    sort_order = fn(x2, axis=axis).argsort()\n",
    "        \n",
    "    if return_order:\n",
    "        return sort_order\n",
    "    \n",
    "    return X[sort_order]"
   ]
  },
  {
   "cell_type": "code",
   "execution_count": 263,
   "id": "a91d9dfe",
   "metadata": {},
   "outputs": [],
   "source": [
    "def fundamental_domain_projection(\n",
    "    X:np.ndarray, \n",
    "    kind:str='guassian', \n",
    "    feature_range:Tuple[float, float]=(-0.001, 0.001), \n",
    "    scale:float=1\n",
    ") -> np.ndarray:\n",
    "    '''\n",
    "    Moves the smallest element of X to the upper left corner and then\n",
    "    sorts by first row and first column.\n",
    "    \n",
    "    Arguments:\n",
    "    ----------\n",
    "        X (np.ndarray): Input data matrix\n",
    "        \n",
    "        kind (str): Defaults to `'guassian'`. The kind of noise to generate.\n",
    "        \n",
    "        feature_range (Tuple[float, float]): Feature range to limit the noise to.\n",
    "            Defaults to `(-0.01, 0.01)`.\n",
    "        \n",
    "        scale (float): Defaults  to `1`. A post min-max re-scaling via simple \n",
    "            multiplication to give further control over the noise.\n",
    "    \n",
    "    Return:\n",
    "    ----------\n",
    "        projected (np.ndarray): `X` projected.\n",
    "    '''\n",
    "\n",
    "    \n",
    "    # STEP 1: add small perturbation to X to make all entries distinct\n",
    "    n = create_perturbation(X, kind='guassian', feature_range=feature_range, scale=scale)\n",
    "    # NOTE: keep n separate because we need to remove it later\n",
    "    x1 = X + n\n",
    "    \n",
    "    # STEP 2: Move smallest entry to upper left corner\n",
    "    r, c = get_swap_coords(x1)\n",
    "    \n",
    "    x2 = anchor_min_to_00(x1, (r, c))\n",
    "    n2 = anchor_min_to_00(n, (r, c))\n",
    "    \n",
    "    # STEP 3: Sort first row and first column \n",
    "    x3, co, ro = sort_first_row_first_col(x2, return_order=True)\n",
    "    n3 = n2[:, co][ro, :]\n",
    "    \n",
    "    # STEP 4: undo perturbation\n",
    "    x = x3 - n3\n",
    "    return x"
   ]
  },
  {
   "cell_type": "code",
   "execution_count": 272,
   "id": "3333fc0e",
   "metadata": {},
   "outputs": [
    {
     "data": {
      "text/plain": [
       "array([[0., 0., 4.],\n",
       "       [1., 5., 3.],\n",
       "       [3., 3., 5.]])"
      ]
     },
     "execution_count": 272,
     "metadata": {},
     "output_type": "execute_result"
    }
   ],
   "source": [
    "fundamental_domain_projection(x)"
   ]
  },
  {
   "cell_type": "code",
   "execution_count": 274,
   "id": "982dcc5f",
   "metadata": {},
   "outputs": [],
   "source": [
    "from data.make_numpy import preprocessing_pipeline, UNZIPPED_FILE"
   ]
  },
  {
   "cell_type": "code",
   "execution_count": 275,
   "id": "d6e7289f",
   "metadata": {},
   "outputs": [],
   "source": [
    "X, y = preprocessing_pipeline(UNZIPPED_FILE)"
   ]
  },
  {
   "cell_type": "code",
   "execution_count": 280,
   "id": "55130ad6",
   "metadata": {},
   "outputs": [
    {
     "data": {
      "text/plain": [
       "array([[ 1.,  0.,  0.,  0.,  0., -1.,  0.,  0.,  0.,  0., -2.,  2., -1.,\n",
       "         1.,  0., -1.,  0., -2.,  2.,  1., -1., -2.,  0.,  2.,  0.,  1.],\n",
       "       [ 0.,  1.,  0.,  0., -1.,  0.,  2.,  0.,  0., -2.,  0.,  0.,  1.,\n",
       "        -1., -2.,  0., -1.,  0.,  0.,  0., -2., -1.,  1.,  1.,  2.,  2.],\n",
       "       [ 0.,  0.,  1.,  0.,  1.,  1., -1.,  1., -1.,  1.,  1., -1.,  1.,\n",
       "         0.,  1., -1.,  1.,  0., -1.,  0.,  1.,  1., -2., -2., -2., -2.],\n",
       "       [ 0.,  0.,  0.,  1.,  1.,  1., -1., -1.,  1.,  1.,  1., -1.,  0.,\n",
       "         1.,  0.,  1., -1.,  1., -2., -2.,  1.,  1.,  0., -2., -1., -2.]])"
      ]
     },
     "execution_count": 280,
     "metadata": {},
     "output_type": "execute_result"
    }
   ],
   "source": [
    "a = X[0]\n",
    "a"
   ]
  },
  {
   "cell_type": "code",
   "execution_count": 281,
   "id": "fa664883",
   "metadata": {},
   "outputs": [
    {
     "data": {
      "text/plain": [
       "array([[-2., -2., -2., -1., -1., -1., -1.,  0.,  0.,  0.,  0.,  0.,  0.,\n",
       "         0.,  0.,  0.,  0.,  0.,  0.,  1.,  1.,  1.,  1.,  2.,  2.,  2.],\n",
       "       [ 0.,  1.,  1., -1.,  1.,  1.,  1., -1.,  1., -2.,  1., -1.,  1.,\n",
       "        -2.,  1.,  0.,  1.,  0.,  1., -2.,  0.,  0.,  0., -1., -2., -1.],\n",
       "       [ 0., -1.,  0.,  0., -2.,  1.,  0.,  2.,  0.,  2., -2.,  0., -1.,\n",
       "         1., -2.,  0., -1.,  1.,  0.,  2., -1.,  0.,  0.,  0.,  1.,  0.],\n",
       "       [ 1.,  1.,  1.,  1.,  1.,  0.,  1., -1., -1., -1.,  0.,  1.,  1.,\n",
       "         0.,  1.,  1., -1.,  0.,  0., -2.,  1.,  0., -2., -2., -2., -1.]])"
      ]
     },
     "execution_count": 281,
     "metadata": {},
     "output_type": "execute_result"
    }
   ],
   "source": [
    "fundamental_domain_projection(a)"
   ]
  },
  {
   "cell_type": "code",
   "execution_count": null,
   "id": "ef2526eb",
   "metadata": {
    "scrolled": false
   },
   "outputs": [],
   "source": [
    "list(map(fundamental_domain_projection, X))"
   ]
  },
  {
   "cell_type": "code",
   "execution_count": 284,
   "id": "e0d95354",
   "metadata": {},
   "outputs": [
    {
     "data": {
      "text/plain": [
       "(array([ 6,  7,  8,  9, 10, 11, 12, 13, 14, 15, 16, 17, 18, 19, 20, 21, 22,\n",
       "        23, 24, 25, 26, 27, 28, 29, 30, 31, 32, 33, 34, 35, 36, 37, 38, 39,\n",
       "        42]),\n",
       " array([   1,   13,  113,  409, 1148, 2395, 4164, 5976, 7635, 8578, 8848,\n",
       "        8170, 7489, 6049, 4900, 3830, 2699, 1972, 1387,  942,  593,  411,\n",
       "         294,  192,  109,   58,   37,   23,   15,    7,    5,    2,    2,\n",
       "           1,    1]))"
      ]
     },
     "execution_count": 284,
     "metadata": {},
     "output_type": "execute_result"
    }
   ],
   "source": [
    " np.unique(y, return_counts=True)"
   ]
  },
  {
   "cell_type": "code",
   "execution_count": null,
   "id": "289e44f4",
   "metadata": {},
   "outputs": [],
   "source": []
  }
 ],
 "metadata": {
  "kernelspec": {
   "display_name": "Python [conda env:ml]",
   "language": "python",
   "name": "conda-env-ml-py"
  },
  "language_info": {
   "codemirror_mode": {
    "name": "ipython",
    "version": 3
   },
   "file_extension": ".py",
   "mimetype": "text/x-python",
   "name": "python",
   "nbconvert_exporter": "python",
   "pygments_lexer": "ipython3",
   "version": "3.9.12"
  },
  "toc": {
   "base_numbering": 1,
   "nav_menu": {},
   "number_sections": true,
   "sideBar": true,
   "skip_h1_title": false,
   "title_cell": "Table of Contents",
   "title_sidebar": "Contents",
   "toc_cell": false,
   "toc_position": {},
   "toc_section_display": true,
   "toc_window_display": false
  }
 },
 "nbformat": 4,
 "nbformat_minor": 5
}
