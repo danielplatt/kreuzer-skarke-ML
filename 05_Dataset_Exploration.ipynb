{
 "cells": [
  {
   "cell_type": "code",
   "execution_count": 1,
   "id": "4aea0774",
   "metadata": {},
   "outputs": [],
   "source": [
    "import os, sys, json, numpy as np, pandas as pd, pickle, itertools, logging\n",
    "from sklearn.preprocessing import MinMaxScaler\n",
    "from typing import TypeVar, Union, List, Literal, Tuple"
   ]
  },
  {
   "cell_type": "code",
   "execution_count": 2,
   "id": "484fe96c",
   "metadata": {},
   "outputs": [],
   "source": [
    "from data.make_numpy import preprocessing_pipeline, UNZIPPED_FILE\n",
    "from fundamental_domain_projections.example1 import fundamental_domain_projection"
   ]
  },
  {
   "cell_type": "code",
   "execution_count": 3,
   "id": "6033260f",
   "metadata": {},
   "outputs": [],
   "source": [
    "X, y = preprocessing_pipeline(UNZIPPED_FILE, extraction_key='h_1,1')"
   ]
  },
  {
   "cell_type": "code",
   "execution_count": 4,
   "id": "ecca4c9d",
   "metadata": {},
   "outputs": [
    {
     "data": {
      "text/plain": [
       "False"
      ]
     },
     "execution_count": 4,
     "metadata": {},
     "output_type": "execute_result"
    }
   ],
   "source": [
    "import scipy\n",
    "scipy.sparse.issparse(X)"
   ]
  },
  {
   "cell_type": "code",
   "execution_count": 6,
   "id": "e69ee1ce",
   "metadata": {},
   "outputs": [
    {
     "data": {
      "text/plain": [
       "37.00171995639575"
      ]
     },
     "execution_count": 6,
     "metadata": {},
     "output_type": "execute_result"
    }
   ],
   "source": [
    "# Sparsity of matrix\n",
    "(1.0 - (np.count_nonzero(X) / float(X.size))) * 100"
   ]
  },
  {
   "cell_type": "code",
   "execution_count": 9,
   "id": "a6780b97",
   "metadata": {},
   "outputs": [],
   "source": [
    "random_guesses = np.random.choice(np.unique(y), size=X.shape[0])"
   ]
  },
  {
   "cell_type": "code",
   "execution_count": 11,
   "id": "d2157be4",
   "metadata": {},
   "outputs": [
    {
     "data": {
      "text/plain": [
       "2.8546668705714433"
      ]
     },
     "execution_count": 11,
     "metadata": {},
     "output_type": "execute_result"
    }
   ],
   "source": [
    "# Accurary of randomly guessing only _known_ classes\n",
    "(y == random_guesses).sum() / len(y) * 100"
   ]
  },
  {
   "cell_type": "code",
   "execution_count": 14,
   "id": "7e5224c9",
   "metadata": {},
   "outputs": [],
   "source": [
    "uni_y, cnt_y = np.unique(y, return_counts=True)"
   ]
  },
  {
   "cell_type": "code",
   "execution_count": 24,
   "id": "1dd5b299",
   "metadata": {},
   "outputs": [],
   "source": [
    "majorit_class_idx = np.where(np.max(cnt_y) == cnt_y)[0]"
   ]
  },
  {
   "cell_type": "code",
   "execution_count": 19,
   "id": "4f92ddf8",
   "metadata": {},
   "outputs": [
    {
     "data": {
      "text/plain": [
       "(8848, 16)"
      ]
     },
     "execution_count": 19,
     "metadata": {},
     "output_type": "execute_result"
    }
   ],
   "source": [
    "cnt_y[majorit_class_idx], uni_y[majorit_class_idx]"
   ]
  },
  {
   "cell_type": "code",
   "execution_count": 22,
   "id": "9ca9b032",
   "metadata": {},
   "outputs": [],
   "source": [
    "majority_class = np.ones_like(y) * uni_y[majorit_class_idx]"
   ]
  },
  {
   "cell_type": "code",
   "execution_count": 23,
   "id": "555b398f",
   "metadata": {},
   "outputs": [
    {
     "data": {
      "text/plain": [
       "11.2759341387572"
      ]
     },
     "execution_count": 23,
     "metadata": {},
     "output_type": "execute_result"
    }
   ],
   "source": [
    "# Accurary of only guessing majority class\n",
    "(y == majority_class).sum() / len(y) * 100"
   ]
  },
  {
   "cell_type": "code",
   "execution_count": null,
   "id": "6d322a72",
   "metadata": {},
   "outputs": [],
   "source": []
  }
 ],
 "metadata": {
  "kernelspec": {
   "display_name": "Python [conda env:ml]",
   "language": "python",
   "name": "conda-env-ml-py"
  },
  "language_info": {
   "codemirror_mode": {
    "name": "ipython",
    "version": 3
   },
   "file_extension": ".py",
   "mimetype": "text/x-python",
   "name": "python",
   "nbconvert_exporter": "python",
   "pygments_lexer": "ipython3",
   "version": "3.9.12"
  },
  "toc": {
   "base_numbering": 1,
   "nav_menu": {},
   "number_sections": true,
   "sideBar": true,
   "skip_h1_title": false,
   "title_cell": "Table of Contents",
   "title_sidebar": "Contents",
   "toc_cell": false,
   "toc_position": {},
   "toc_section_display": true,
   "toc_window_display": false
  }
 },
 "nbformat": 4,
 "nbformat_minor": 5
}
